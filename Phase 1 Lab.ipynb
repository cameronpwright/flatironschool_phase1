{
 "cells": [
  {
   "cell_type": "code",
   "execution_count": 1,
   "metadata": {},
   "outputs": [
    {
     "name": "stdout",
     "output_type": "stream",
     "text": [
      "Warning: Looks like you're using an outdated `kagglehub` version, please consider updating (latest version: 0.3.6)\n"
     ]
    }
   ],
   "source": [
    "import kagglehub as kg\n",
    "path = kg.dataset_download(\"khsamaha/aviation-accident-database-synopses\")"
   ]
  },
  {
   "cell_type": "code",
   "execution_count": 2,
   "metadata": {},
   "outputs": [],
   "source": [
    "encoding = 'Windows-1252'\n",
    "with open(path + '/AviationData.csv', 'r', encoding=encoding) as f:\n",
    "    data = f.read()\n",
    "\n",
    "with open('AviationData_utf8.csv', 'w', encoding='utf-8') as f:\n",
    "    f.write(data)"
   ]
  },
  {
   "cell_type": "code",
   "execution_count": 3,
   "metadata": {},
   "outputs": [],
   "source": [
    "import pandas as pd\n",
    "base_df = pd.read_csv('AviationData_utf8.csv', low_memory=False)\n",
    "df = base_df.copy(deep=True)\n",
    "# Having base_df and df allow me to compare manipulated data (df) against the original dataset (base_df)"
   ]
  },
  {
   "cell_type": "code",
   "execution_count": 4,
   "metadata": {},
   "outputs": [],
   "source": [
    "import numpy as np\n",
    "import re\n",
    "import matplotlib.pyplot as plt\n",
    "\n",
    "%matplotlib inline"
   ]
  },
  {
   "cell_type": "markdown",
   "metadata": {},
   "source": [
    "## EDA and Data Cleaning\n",
    "First, I want to get a sense of the dataset itself and what transformations and cleaning may need to be done to get it in a workable format. \n",
    "\n",
    "From looking at the columns of the dataset, certain columns have a relatively large proportion of null values (e.g., latitutde and longitude; airport name; and air carrier)."
   ]
  },
  {
   "cell_type": "code",
   "execution_count": 5,
   "metadata": {
    "scrolled": false
   },
   "outputs": [
    {
     "name": "stdout",
     "output_type": "stream",
     "text": [
      "<class 'pandas.core.frame.DataFrame'>\n",
      "RangeIndex: 88889 entries, 0 to 88888\n",
      "Data columns (total 31 columns):\n",
      " #   Column                  Non-Null Count  Dtype  \n",
      "---  ------                  --------------  -----  \n",
      " 0   Event.Id                88889 non-null  object \n",
      " 1   Investigation.Type      88889 non-null  object \n",
      " 2   Accident.Number         88889 non-null  object \n",
      " 3   Event.Date              88889 non-null  object \n",
      " 4   Location                88837 non-null  object \n",
      " 5   Country                 88663 non-null  object \n",
      " 6   Latitude                34382 non-null  object \n",
      " 7   Longitude               34373 non-null  object \n",
      " 8   Airport.Code            50249 non-null  object \n",
      " 9   Airport.Name            52790 non-null  object \n",
      " 10  Injury.Severity         87889 non-null  object \n",
      " 11  Aircraft.damage         85695 non-null  object \n",
      " 12  Aircraft.Category       32287 non-null  object \n",
      " 13  Registration.Number     87572 non-null  object \n",
      " 14  Make                    88826 non-null  object \n",
      " 15  Model                   88797 non-null  object \n",
      " 16  Amateur.Built           88787 non-null  object \n",
      " 17  Number.of.Engines       82805 non-null  float64\n",
      " 18  Engine.Type             81812 non-null  object \n",
      " 19  FAR.Description         32023 non-null  object \n",
      " 20  Schedule                12582 non-null  object \n",
      " 21  Purpose.of.flight       82697 non-null  object \n",
      " 22  Air.carrier             16648 non-null  object \n",
      " 23  Total.Fatal.Injuries    77488 non-null  float64\n",
      " 24  Total.Serious.Injuries  76379 non-null  float64\n",
      " 25  Total.Minor.Injuries    76956 non-null  float64\n",
      " 26  Total.Uninjured         82977 non-null  float64\n",
      " 27  Weather.Condition       84397 non-null  object \n",
      " 28  Broad.phase.of.flight   61724 non-null  object \n",
      " 29  Report.Status           82508 non-null  object \n",
      " 30  Publication.Date        75118 non-null  object \n",
      "dtypes: float64(5), object(26)\n",
      "memory usage: 21.0+ MB\n"
     ]
    }
   ],
   "source": [
    "df.info()"
   ]
  },
  {
   "cell_type": "code",
   "execution_count": 6,
   "metadata": {},
   "outputs": [
    {
     "data": {
      "text/html": [
       "<div>\n",
       "<style scoped>\n",
       "    .dataframe tbody tr th:only-of-type {\n",
       "        vertical-align: middle;\n",
       "    }\n",
       "\n",
       "    .dataframe tbody tr th {\n",
       "        vertical-align: top;\n",
       "    }\n",
       "\n",
       "    .dataframe thead th {\n",
       "        text-align: right;\n",
       "    }\n",
       "</style>\n",
       "<table border=\"1\" class=\"dataframe\">\n",
       "  <thead>\n",
       "    <tr style=\"text-align: right;\">\n",
       "      <th></th>\n",
       "      <th>Number.of.Engines</th>\n",
       "      <th>Total.Fatal.Injuries</th>\n",
       "      <th>Total.Serious.Injuries</th>\n",
       "      <th>Total.Minor.Injuries</th>\n",
       "      <th>Total.Uninjured</th>\n",
       "    </tr>\n",
       "  </thead>\n",
       "  <tbody>\n",
       "    <tr>\n",
       "      <th>count</th>\n",
       "      <td>82805.000000</td>\n",
       "      <td>77488.000000</td>\n",
       "      <td>76379.000000</td>\n",
       "      <td>76956.000000</td>\n",
       "      <td>82977.000000</td>\n",
       "    </tr>\n",
       "    <tr>\n",
       "      <th>mean</th>\n",
       "      <td>1.146585</td>\n",
       "      <td>0.647855</td>\n",
       "      <td>0.279881</td>\n",
       "      <td>0.357061</td>\n",
       "      <td>5.325440</td>\n",
       "    </tr>\n",
       "    <tr>\n",
       "      <th>std</th>\n",
       "      <td>0.446510</td>\n",
       "      <td>5.485960</td>\n",
       "      <td>1.544084</td>\n",
       "      <td>2.235625</td>\n",
       "      <td>27.913634</td>\n",
       "    </tr>\n",
       "    <tr>\n",
       "      <th>min</th>\n",
       "      <td>0.000000</td>\n",
       "      <td>0.000000</td>\n",
       "      <td>0.000000</td>\n",
       "      <td>0.000000</td>\n",
       "      <td>0.000000</td>\n",
       "    </tr>\n",
       "    <tr>\n",
       "      <th>25%</th>\n",
       "      <td>1.000000</td>\n",
       "      <td>0.000000</td>\n",
       "      <td>0.000000</td>\n",
       "      <td>0.000000</td>\n",
       "      <td>0.000000</td>\n",
       "    </tr>\n",
       "    <tr>\n",
       "      <th>50%</th>\n",
       "      <td>1.000000</td>\n",
       "      <td>0.000000</td>\n",
       "      <td>0.000000</td>\n",
       "      <td>0.000000</td>\n",
       "      <td>1.000000</td>\n",
       "    </tr>\n",
       "    <tr>\n",
       "      <th>75%</th>\n",
       "      <td>1.000000</td>\n",
       "      <td>0.000000</td>\n",
       "      <td>0.000000</td>\n",
       "      <td>0.000000</td>\n",
       "      <td>2.000000</td>\n",
       "    </tr>\n",
       "    <tr>\n",
       "      <th>max</th>\n",
       "      <td>8.000000</td>\n",
       "      <td>349.000000</td>\n",
       "      <td>161.000000</td>\n",
       "      <td>380.000000</td>\n",
       "      <td>699.000000</td>\n",
       "    </tr>\n",
       "  </tbody>\n",
       "</table>\n",
       "</div>"
      ],
      "text/plain": [
       "       Number.of.Engines  Total.Fatal.Injuries  Total.Serious.Injuries  \\\n",
       "count       82805.000000          77488.000000            76379.000000   \n",
       "mean            1.146585              0.647855                0.279881   \n",
       "std             0.446510              5.485960                1.544084   \n",
       "min             0.000000              0.000000                0.000000   \n",
       "25%             1.000000              0.000000                0.000000   \n",
       "50%             1.000000              0.000000                0.000000   \n",
       "75%             1.000000              0.000000                0.000000   \n",
       "max             8.000000            349.000000              161.000000   \n",
       "\n",
       "       Total.Minor.Injuries  Total.Uninjured  \n",
       "count          76956.000000     82977.000000  \n",
       "mean               0.357061         5.325440  \n",
       "std                2.235625        27.913634  \n",
       "min                0.000000         0.000000  \n",
       "25%                0.000000         0.000000  \n",
       "50%                0.000000         1.000000  \n",
       "75%                0.000000         2.000000  \n",
       "max              380.000000       699.000000  "
      ]
     },
     "execution_count": 6,
     "metadata": {},
     "output_type": "execute_result"
    }
   ],
   "source": [
    "df.describe()"
   ]
  },
  {
   "cell_type": "markdown",
   "metadata": {},
   "source": [
    "Let's narrow our focus to traffic in the U.S. only."
   ]
  },
  {
   "cell_type": "code",
   "execution_count": 7,
   "metadata": {},
   "outputs": [],
   "source": [
    "df = df[df['Country'] == 'United States']"
   ]
  },
  {
   "cell_type": "markdown",
   "metadata": {},
   "source": [
    "### Dropping Unhelpful Columns\n",
    "I'm choosing to drop columns which are of limited use for my purposes here, e.g. those with redundant info (lat./long. when I already have location) and report status (string-based narrative data)."
   ]
  },
  {
   "cell_type": "code",
   "execution_count": 9,
   "metadata": {},
   "outputs": [],
   "source": [
    "df.drop(['Latitude','Longitude','Investigation.Type',\n",
    "         'Publication.Date','FAR.Description'],axis=1,inplace=True)"
   ]
  },
  {
   "cell_type": "markdown",
   "metadata": {},
   "source": [
    "### Event Date\n",
    "Event.Date column is not in datetime format, I'll correct this."
   ]
  },
  {
   "cell_type": "code",
   "execution_count": 10,
   "metadata": {},
   "outputs": [
    {
     "data": {
      "text/plain": [
       "str"
      ]
     },
     "execution_count": 10,
     "metadata": {},
     "output_type": "execute_result"
    }
   ],
   "source": [
    "type(df['Event.Date'][1])"
   ]
  },
  {
   "cell_type": "code",
   "execution_count": 11,
   "metadata": {},
   "outputs": [],
   "source": [
    "df['Event.Date'] = pd.to_datetime(df['Event.Date'])"
   ]
  },
  {
   "cell_type": "code",
   "execution_count": 12,
   "metadata": {},
   "outputs": [
    {
     "data": {
      "text/plain": [
       "pandas._libs.tslibs.timestamps.Timestamp"
      ]
     },
     "execution_count": 12,
     "metadata": {},
     "output_type": "execute_result"
    }
   ],
   "source": [
    "type(df['Event.Date'][1])"
   ]
  },
  {
   "cell_type": "code",
   "execution_count": 32,
   "metadata": {},
   "outputs": [
    {
     "data": {
      "text/plain": [
       "1948       1\n",
       "1962       1\n",
       "1974       1\n",
       "1977       1\n",
       "1979       2\n",
       "1981       1\n",
       "1982    3318\n",
       "1983    3237\n",
       "1984    3190\n",
       "1985    2882\n",
       "1986    2644\n",
       "1987    2617\n",
       "1988    2494\n",
       "1989    2323\n",
       "1990    2278\n",
       "1991    2219\n",
       "1992    2052\n",
       "1993    2041\n",
       "1994    1981\n",
       "1995    1993\n",
       "1996    1900\n",
       "1997    1839\n",
       "1998    1830\n",
       "1999    1845\n",
       "2000    1798\n",
       "2001    1677\n",
       "2002    1647\n",
       "2003    1715\n",
       "2004    1581\n",
       "2005    1622\n",
       "2006    1446\n",
       "2007    1594\n",
       "2008    1485\n",
       "2009    1363\n",
       "2010    1364\n",
       "2011    1382\n",
       "2012    1356\n",
       "2013    1162\n",
       "2014    1119\n",
       "2015    1130\n",
       "2016    1166\n",
       "2017    1142\n",
       "2018    1154\n",
       "2019    1128\n",
       "2020     987\n",
       "2021    1067\n",
       "2022    1131\n",
       "Name: Event.Date, dtype: int64"
      ]
     },
     "execution_count": 32,
     "metadata": {},
     "output_type": "execute_result"
    }
   ],
   "source": [
    "df['Event.Date'].dt.year.value_counts().sort_index(ascending=True)"
   ]
  },
  {
   "cell_type": "markdown",
   "metadata": {},
   "source": [
    "The core of this dataset appears to consist of entries from 1982 onwards, I will filter the earlier ones out."
   ]
  },
  {
   "cell_type": "code",
   "execution_count": 33,
   "metadata": {},
   "outputs": [],
   "source": [
    "df = df[df['Event.Date'].dt.year >= 1982]"
   ]
  },
  {
   "cell_type": "code",
   "execution_count": 34,
   "metadata": {},
   "outputs": [
    {
     "data": {
      "text/plain": [
       "1982    3318\n",
       "1983    3237\n",
       "1984    3190\n",
       "1985    2882\n",
       "1986    2644\n",
       "1987    2617\n",
       "1988    2494\n",
       "1989    2323\n",
       "1990    2278\n",
       "1991    2219\n",
       "1992    2052\n",
       "1993    2041\n",
       "1994    1981\n",
       "1995    1993\n",
       "1996    1900\n",
       "1997    1839\n",
       "1998    1830\n",
       "1999    1845\n",
       "2000    1798\n",
       "2001    1677\n",
       "2002    1647\n",
       "2003    1715\n",
       "2004    1581\n",
       "2005    1622\n",
       "2006    1446\n",
       "2007    1594\n",
       "2008    1485\n",
       "2009    1363\n",
       "2010    1364\n",
       "2011    1382\n",
       "2012    1356\n",
       "2013    1162\n",
       "2014    1119\n",
       "2015    1130\n",
       "2016    1166\n",
       "2017    1142\n",
       "2018    1154\n",
       "2019    1128\n",
       "2020     987\n",
       "2021    1067\n",
       "2022    1131\n",
       "Name: Event.Date, dtype: int64"
      ]
     },
     "execution_count": 34,
     "metadata": {},
     "output_type": "execute_result"
    }
   ],
   "source": [
    "df['Event.Date'].dt.year.value_counts().sort_index(ascending=True)"
   ]
  },
  {
   "cell_type": "markdown",
   "metadata": {},
   "source": [
    "### Air Carrier\n",
    "Of the air carrier values with non-null entries , it seems that the values are a mix of established carriers (e.g., American, United) which are likely to be helpful in my analysis and other values (e.g., YOUNGBLOOD LARRY J) which are likely to be less helpful when looking at commercial aviation."
   ]
  },
  {
   "cell_type": "code",
   "execution_count": 36,
   "metadata": {},
   "outputs": [
    {
     "data": {
      "text/plain": [
       "Pilot                                      192\n",
       "United Airlines                             68\n",
       "American Airlines                           66\n",
       "Southwest Airlines Co                       44\n",
       "Delta Air Lines                             40\n",
       "                                          ... \n",
       "Jay B. Kurtz                                 1\n",
       "Apoka Aviation And Flight Services           1\n",
       "Send North                                   1\n",
       "Christiansen Lake Rentals & Maintenance      1\n",
       "Precision Ag & Seed Services Llc             1\n",
       "Name: Air.carrier, Length: 10731, dtype: int64"
      ]
     },
     "execution_count": 36,
     "metadata": {},
     "output_type": "execute_result"
    }
   ],
   "source": [
    "df['Air.carrier'].str.title().value_counts()"
   ]
  },
  {
   "cell_type": "markdown",
   "metadata": {},
   "source": [
    "I want to eliminate as much duplication of air carriers that results from case sensitivity."
   ]
  },
  {
   "cell_type": "code",
   "execution_count": 15,
   "metadata": {},
   "outputs": [],
   "source": [
    "df['Air.carrier'] = df['Air.carrier'].str.title()"
   ]
  },
  {
   "cell_type": "markdown",
   "metadata": {},
   "source": [
    "### Aircraft Make and Model\n",
    "I see that Aircraft Make is likely to be a problem. For example, \"Cessna\" and \"CESSNA\" both appear here -- I will standardize the cases."
   ]
  },
  {
   "cell_type": "code",
   "execution_count": 16,
   "metadata": {},
   "outputs": [
    {
     "data": {
      "text/plain": [
       "Make\n",
       "Cessna      21573\n",
       "Piper       11661\n",
       "CESSNA       4280\n",
       "Beech        4167\n",
       "PIPER        2507\n",
       "            ...  \n",
       "Mini Ace        1\n",
       "Mini-MAX        1\n",
       "Minicab         1\n",
       "Minkler         1\n",
       "1200            1\n",
       "Length: 8001, dtype: int64"
      ]
     },
     "execution_count": 16,
     "metadata": {},
     "output_type": "execute_result"
    }
   ],
   "source": [
    "df.value_counts('Make')"
   ]
  },
  {
   "cell_type": "code",
   "execution_count": 17,
   "metadata": {},
   "outputs": [
    {
     "data": {
      "text/plain": [
       "Cessna               25853\n",
       "Piper                14168\n",
       "Beech                 5059\n",
       "Bell                  2285\n",
       "Boeing                1485\n",
       "                     ...  \n",
       "Webb                     1\n",
       "Moni                     1\n",
       "Witzel                   1\n",
       "Martin Curtis            1\n",
       "Robert J. Labonte        1\n",
       "Name: Make, Length: 7404, dtype: int64"
      ]
     },
     "execution_count": 17,
     "metadata": {},
     "output_type": "execute_result"
    }
   ],
   "source": [
    "df['Make'].str.title().value_counts()"
   ]
  },
  {
   "cell_type": "markdown",
   "metadata": {},
   "source": [
    "By converting all strings in the Make column to the same case, 337 erroneously separated values were consolidated and the count of \"Cessna\" increased by ~74%. I'll permanently convert this column to title case and check if the same issue exists in the Model column."
   ]
  },
  {
   "cell_type": "code",
   "execution_count": 18,
   "metadata": {},
   "outputs": [],
   "source": [
    "df['Make'] = df['Make'].str.title()"
   ]
  },
  {
   "cell_type": "code",
   "execution_count": 19,
   "metadata": {},
   "outputs": [
    {
     "data": {
      "text/plain": [
       "152                2323\n",
       "172                1637\n",
       "172N               1136\n",
       "PA-28-140           910\n",
       "150                 790\n",
       "                   ... \n",
       "DH-82C                1\n",
       "NA-1                  1\n",
       "SCIRROCO MJ5-K2       1\n",
       "BARNETT J4B2          1\n",
       "VARI- EZE             1\n",
       "Name: Model, Length: 11443, dtype: int64"
      ]
     },
     "execution_count": 19,
     "metadata": {},
     "output_type": "execute_result"
    }
   ],
   "source": [
    "df['Model'].value_counts()"
   ]
  },
  {
   "cell_type": "code",
   "execution_count": 20,
   "metadata": {},
   "outputs": [
    {
     "data": {
      "text/plain": [
       "152                2323\n",
       "172                1637\n",
       "172N               1136\n",
       "Pa-28-140           910\n",
       "150                 790\n",
       "                   ... \n",
       "Delta Jet-Ii          1\n",
       "Hawk Mkii             1\n",
       "Vans Acft Rv8A        1\n",
       "Oh- 58C               1\n",
       "Ela 07 Scorpion       1\n",
       "Name: Model, Length: 10786, dtype: int64"
      ]
     },
     "execution_count": 20,
     "metadata": {},
     "output_type": "execute_result"
    }
   ],
   "source": [
    "df['Model'].str.title().value_counts()"
   ]
  },
  {
   "cell_type": "markdown",
   "metadata": {},
   "source": [
    "Converting cases wasn't as impactful for the Model column, likely because Model values are more likely to be numeric in nature. Nonetheless, it decreased the number of unique values by ~5%, so I'll convert to title case."
   ]
  },
  {
   "cell_type": "code",
   "execution_count": 21,
   "metadata": {},
   "outputs": [],
   "source": [
    "df['Model'] = df['Model'].str.title()"
   ]
  },
  {
   "cell_type": "markdown",
   "metadata": {},
   "source": [
    "### Location\n",
    "I'll standardize the case for location as well."
   ]
  },
  {
   "cell_type": "code",
   "execution_count": 22,
   "metadata": {},
   "outputs": [],
   "source": [
    "df['Location'] = df['Location'].str.title()"
   ]
  },
  {
   "cell_type": "markdown",
   "metadata": {},
   "source": [
    "### Amateur vs Commercial Aircraft\n",
    "This analysis should only focus on commercial aviation, so I'll exclude any amateur-built aircraft."
   ]
  },
  {
   "cell_type": "code",
   "execution_count": 23,
   "metadata": {},
   "outputs": [
    {
     "data": {
      "text/plain": [
       "Amateur.Built\n",
       "No     73906\n",
       "Yes     8321\n",
       "dtype: int64"
      ]
     },
     "execution_count": 23,
     "metadata": {},
     "output_type": "execute_result"
    }
   ],
   "source": [
    "df.value_counts('Amateur.Built')"
   ]
  },
  {
   "cell_type": "code",
   "execution_count": 24,
   "metadata": {},
   "outputs": [],
   "source": [
    "df = df[df['Amateur.Built'] == 'No'].reset_index().drop(['index'], axis=1)"
   ]
  },
  {
   "cell_type": "code",
   "execution_count": 25,
   "metadata": {},
   "outputs": [
    {
     "name": "stdout",
     "output_type": "stream",
     "text": [
      "<class 'pandas.core.frame.DataFrame'>\n",
      "RangeIndex: 73906 entries, 0 to 73905\n",
      "Data columns (total 26 columns):\n",
      " #   Column                  Non-Null Count  Dtype         \n",
      "---  ------                  --------------  -----         \n",
      " 0   Event.Id                73906 non-null  object        \n",
      " 1   Accident.Number         73906 non-null  object        \n",
      " 2   Event.Date              73906 non-null  datetime64[ns]\n",
      " 3   Location                73896 non-null  object        \n",
      " 4   Country                 73906 non-null  object        \n",
      " 5   Airport.Code            44033 non-null  object        \n",
      " 6   Airport.Name            46285 non-null  object        \n",
      " 7   Injury.Severity         73798 non-null  object        \n",
      " 8   Aircraft.damage         71949 non-null  object        \n",
      " 9   Aircraft.Category       24697 non-null  object        \n",
      " 10  Registration.Number     73856 non-null  object        \n",
      " 11  Make                    73897 non-null  object        \n",
      " 12  Model                   73891 non-null  object        \n",
      " 13  Amateur.Built           73906 non-null  object        \n",
      " 14  Number.of.Engines       72237 non-null  float64       \n",
      " 15  Engine.Type             71156 non-null  object        \n",
      " 16  Schedule                10093 non-null  object        \n",
      " 17  Purpose.of.flight       71481 non-null  object        \n",
      " 18  Air.carrier             13518 non-null  object        \n",
      " 19  Total.Fatal.Injuries    64425 non-null  float64       \n",
      " 20  Total.Serious.Injuries  63850 non-null  float64       \n",
      " 21  Total.Minor.Injuries    64443 non-null  float64       \n",
      " 22  Total.Uninjured         69830 non-null  float64       \n",
      " 23  Weather.Condition       73285 non-null  object        \n",
      " 24  Broad.phase.of.flight   55594 non-null  object        \n",
      " 25  Report.Status           71576 non-null  object        \n",
      "dtypes: datetime64[ns](1), float64(5), object(20)\n",
      "memory usage: 14.7+ MB\n"
     ]
    }
   ],
   "source": [
    "df.info()"
   ]
  },
  {
   "cell_type": "markdown",
   "metadata": {},
   "source": [
    "### Aircraft Category\n",
    "Aircraft category has a low number of non-null values when compared to the total number of entries. I will investigate how best to clean this data, though I doubt I will be able to correct every null value."
   ]
  },
  {
   "cell_type": "code",
   "execution_count": 54,
   "metadata": {},
   "outputs": [
    {
     "data": {
      "text/html": [
       "<div>\n",
       "<style scoped>\n",
       "    .dataframe tbody tr th:only-of-type {\n",
       "        vertical-align: middle;\n",
       "    }\n",
       "\n",
       "    .dataframe tbody tr th {\n",
       "        vertical-align: top;\n",
       "    }\n",
       "\n",
       "    .dataframe thead th {\n",
       "        text-align: right;\n",
       "    }\n",
       "</style>\n",
       "<table border=\"1\" class=\"dataframe\">\n",
       "  <thead>\n",
       "    <tr style=\"text-align: right;\">\n",
       "      <th></th>\n",
       "      <th>Event.Id</th>\n",
       "      <th>Accident.Number</th>\n",
       "      <th>Event.Date</th>\n",
       "      <th>Location</th>\n",
       "      <th>Country</th>\n",
       "      <th>Airport.Code</th>\n",
       "      <th>Airport.Name</th>\n",
       "      <th>Injury.Severity</th>\n",
       "      <th>Aircraft.damage</th>\n",
       "      <th>Aircraft.Category</th>\n",
       "      <th>...</th>\n",
       "      <th>Schedule</th>\n",
       "      <th>Purpose.of.flight</th>\n",
       "      <th>Air.carrier</th>\n",
       "      <th>Total.Fatal.Injuries</th>\n",
       "      <th>Total.Serious.Injuries</th>\n",
       "      <th>Total.Minor.Injuries</th>\n",
       "      <th>Total.Uninjured</th>\n",
       "      <th>Weather.Condition</th>\n",
       "      <th>Broad.phase.of.flight</th>\n",
       "      <th>Report.Status</th>\n",
       "    </tr>\n",
       "  </thead>\n",
       "  <tbody>\n",
       "    <tr>\n",
       "      <th>9</th>\n",
       "      <td>20020909X01560</td>\n",
       "      <td>MIA82DA029</td>\n",
       "      <td>1982-01-01</td>\n",
       "      <td>Jacksonville, Fl</td>\n",
       "      <td>United States</td>\n",
       "      <td>JAX</td>\n",
       "      <td>JACKSONVILLE INTL</td>\n",
       "      <td>Non-Fatal</td>\n",
       "      <td>Substantial</td>\n",
       "      <td>NaN</td>\n",
       "      <td>...</td>\n",
       "      <td>NaN</td>\n",
       "      <td>Personal</td>\n",
       "      <td>NaN</td>\n",
       "      <td>0.0</td>\n",
       "      <td>0.0</td>\n",
       "      <td>3.0</td>\n",
       "      <td>0.0</td>\n",
       "      <td>IMC</td>\n",
       "      <td>Cruise</td>\n",
       "      <td>Probable Cause</td>\n",
       "    </tr>\n",
       "    <tr>\n",
       "      <th>10</th>\n",
       "      <td>20020909X01559</td>\n",
       "      <td>FTW82DA034</td>\n",
       "      <td>1982-01-01</td>\n",
       "      <td>Hobbs, Nm</td>\n",
       "      <td>United States</td>\n",
       "      <td>NaN</td>\n",
       "      <td>NaN</td>\n",
       "      <td>Non-Fatal</td>\n",
       "      <td>Substantial</td>\n",
       "      <td>NaN</td>\n",
       "      <td>...</td>\n",
       "      <td>NaN</td>\n",
       "      <td>Personal</td>\n",
       "      <td>NaN</td>\n",
       "      <td>0.0</td>\n",
       "      <td>0.0</td>\n",
       "      <td>0.0</td>\n",
       "      <td>1.0</td>\n",
       "      <td>VMC</td>\n",
       "      <td>Approach</td>\n",
       "      <td>Probable Cause</td>\n",
       "    </tr>\n",
       "    <tr>\n",
       "      <th>11</th>\n",
       "      <td>20020909X01558</td>\n",
       "      <td>ATL82DKJ10</td>\n",
       "      <td>1982-01-01</td>\n",
       "      <td>Tuskegee, Al</td>\n",
       "      <td>United States</td>\n",
       "      <td>NaN</td>\n",
       "      <td>TUSKEGEE</td>\n",
       "      <td>Non-Fatal</td>\n",
       "      <td>Substantial</td>\n",
       "      <td>NaN</td>\n",
       "      <td>...</td>\n",
       "      <td>NaN</td>\n",
       "      <td>Personal</td>\n",
       "      <td>NaN</td>\n",
       "      <td>0.0</td>\n",
       "      <td>0.0</td>\n",
       "      <td>0.0</td>\n",
       "      <td>1.0</td>\n",
       "      <td>VMC</td>\n",
       "      <td>Landing</td>\n",
       "      <td>Probable Cause</td>\n",
       "    </tr>\n",
       "    <tr>\n",
       "      <th>81</th>\n",
       "      <td>20020917X01907</td>\n",
       "      <td>DCA82AA011</td>\n",
       "      <td>1982-01-13</td>\n",
       "      <td>Washington, Dc</td>\n",
       "      <td>United States</td>\n",
       "      <td>NaN</td>\n",
       "      <td>WASHINGTON NATIONAL</td>\n",
       "      <td>Fatal(78)</td>\n",
       "      <td>Destroyed</td>\n",
       "      <td>NaN</td>\n",
       "      <td>...</td>\n",
       "      <td>SCHD</td>\n",
       "      <td>Unknown</td>\n",
       "      <td>Air Florida, Inc</td>\n",
       "      <td>78.0</td>\n",
       "      <td>6.0</td>\n",
       "      <td>3.0</td>\n",
       "      <td>0.0</td>\n",
       "      <td>IMC</td>\n",
       "      <td>Takeoff</td>\n",
       "      <td>Probable Cause</td>\n",
       "    </tr>\n",
       "    <tr>\n",
       "      <th>86</th>\n",
       "      <td>20020917X02486</td>\n",
       "      <td>NYC82DA022</td>\n",
       "      <td>1982-01-15</td>\n",
       "      <td>Butler, Pa</td>\n",
       "      <td>United States</td>\n",
       "      <td>3G9</td>\n",
       "      <td>BUTLER ROE</td>\n",
       "      <td>Non-Fatal</td>\n",
       "      <td>Substantial</td>\n",
       "      <td>NaN</td>\n",
       "      <td>...</td>\n",
       "      <td>NaN</td>\n",
       "      <td>Personal</td>\n",
       "      <td>NaN</td>\n",
       "      <td>NaN</td>\n",
       "      <td>NaN</td>\n",
       "      <td>NaN</td>\n",
       "      <td>2.0</td>\n",
       "      <td>VMC</td>\n",
       "      <td>Approach</td>\n",
       "      <td>Probable Cause</td>\n",
       "    </tr>\n",
       "    <tr>\n",
       "      <th>...</th>\n",
       "      <td>...</td>\n",
       "      <td>...</td>\n",
       "      <td>...</td>\n",
       "      <td>...</td>\n",
       "      <td>...</td>\n",
       "      <td>...</td>\n",
       "      <td>...</td>\n",
       "      <td>...</td>\n",
       "      <td>...</td>\n",
       "      <td>...</td>\n",
       "      <td>...</td>\n",
       "      <td>...</td>\n",
       "      <td>...</td>\n",
       "      <td>...</td>\n",
       "      <td>...</td>\n",
       "      <td>...</td>\n",
       "      <td>...</td>\n",
       "      <td>...</td>\n",
       "      <td>...</td>\n",
       "      <td>...</td>\n",
       "      <td>...</td>\n",
       "    </tr>\n",
       "    <tr>\n",
       "      <th>73900</th>\n",
       "      <td>20221222106486</td>\n",
       "      <td>CEN23LA068</td>\n",
       "      <td>2022-12-21</td>\n",
       "      <td>Reserve, La</td>\n",
       "      <td>United States</td>\n",
       "      <td>NaN</td>\n",
       "      <td>NaN</td>\n",
       "      <td>Minor</td>\n",
       "      <td>NaN</td>\n",
       "      <td>NaN</td>\n",
       "      <td>...</td>\n",
       "      <td>NaN</td>\n",
       "      <td>Instructional</td>\n",
       "      <td>NaN</td>\n",
       "      <td>0.0</td>\n",
       "      <td>1.0</td>\n",
       "      <td>0.0</td>\n",
       "      <td>1.0</td>\n",
       "      <td>NaN</td>\n",
       "      <td>NaN</td>\n",
       "      <td>NaN</td>\n",
       "    </tr>\n",
       "    <tr>\n",
       "      <th>73901</th>\n",
       "      <td>20221227106491</td>\n",
       "      <td>ERA23LA093</td>\n",
       "      <td>2022-12-26</td>\n",
       "      <td>Annapolis, Md</td>\n",
       "      <td>United States</td>\n",
       "      <td>NaN</td>\n",
       "      <td>NaN</td>\n",
       "      <td>Minor</td>\n",
       "      <td>NaN</td>\n",
       "      <td>NaN</td>\n",
       "      <td>...</td>\n",
       "      <td>NaN</td>\n",
       "      <td>Personal</td>\n",
       "      <td>NaN</td>\n",
       "      <td>0.0</td>\n",
       "      <td>1.0</td>\n",
       "      <td>0.0</td>\n",
       "      <td>0.0</td>\n",
       "      <td>NaN</td>\n",
       "      <td>NaN</td>\n",
       "      <td>NaN</td>\n",
       "    </tr>\n",
       "    <tr>\n",
       "      <th>73902</th>\n",
       "      <td>20221227106494</td>\n",
       "      <td>ERA23LA095</td>\n",
       "      <td>2022-12-26</td>\n",
       "      <td>Hampton, Nh</td>\n",
       "      <td>United States</td>\n",
       "      <td>NaN</td>\n",
       "      <td>NaN</td>\n",
       "      <td>NaN</td>\n",
       "      <td>NaN</td>\n",
       "      <td>NaN</td>\n",
       "      <td>...</td>\n",
       "      <td>NaN</td>\n",
       "      <td>NaN</td>\n",
       "      <td>NaN</td>\n",
       "      <td>0.0</td>\n",
       "      <td>0.0</td>\n",
       "      <td>0.0</td>\n",
       "      <td>0.0</td>\n",
       "      <td>NaN</td>\n",
       "      <td>NaN</td>\n",
       "      <td>NaN</td>\n",
       "    </tr>\n",
       "    <tr>\n",
       "      <th>73904</th>\n",
       "      <td>20221227106498</td>\n",
       "      <td>WPR23LA076</td>\n",
       "      <td>2022-12-26</td>\n",
       "      <td>Morgan, Ut</td>\n",
       "      <td>United States</td>\n",
       "      <td>NaN</td>\n",
       "      <td>NaN</td>\n",
       "      <td>NaN</td>\n",
       "      <td>NaN</td>\n",
       "      <td>NaN</td>\n",
       "      <td>...</td>\n",
       "      <td>NaN</td>\n",
       "      <td>Personal</td>\n",
       "      <td>Mc Cessna 210N Llc</td>\n",
       "      <td>0.0</td>\n",
       "      <td>0.0</td>\n",
       "      <td>0.0</td>\n",
       "      <td>0.0</td>\n",
       "      <td>NaN</td>\n",
       "      <td>NaN</td>\n",
       "      <td>NaN</td>\n",
       "    </tr>\n",
       "    <tr>\n",
       "      <th>73905</th>\n",
       "      <td>20221230106513</td>\n",
       "      <td>ERA23LA097</td>\n",
       "      <td>2022-12-29</td>\n",
       "      <td>Athens, Ga</td>\n",
       "      <td>United States</td>\n",
       "      <td>NaN</td>\n",
       "      <td>NaN</td>\n",
       "      <td>Minor</td>\n",
       "      <td>NaN</td>\n",
       "      <td>NaN</td>\n",
       "      <td>...</td>\n",
       "      <td>NaN</td>\n",
       "      <td>Personal</td>\n",
       "      <td>NaN</td>\n",
       "      <td>0.0</td>\n",
       "      <td>1.0</td>\n",
       "      <td>0.0</td>\n",
       "      <td>1.0</td>\n",
       "      <td>NaN</td>\n",
       "      <td>NaN</td>\n",
       "      <td>NaN</td>\n",
       "    </tr>\n",
       "  </tbody>\n",
       "</table>\n",
       "<p>49203 rows × 26 columns</p>\n",
       "</div>"
      ],
      "text/plain": [
       "             Event.Id Accident.Number Event.Date          Location  \\\n",
       "9      20020909X01560      MIA82DA029 1982-01-01  Jacksonville, Fl   \n",
       "10     20020909X01559      FTW82DA034 1982-01-01         Hobbs, Nm   \n",
       "11     20020909X01558      ATL82DKJ10 1982-01-01      Tuskegee, Al   \n",
       "81     20020917X01907      DCA82AA011 1982-01-13    Washington, Dc   \n",
       "86     20020917X02486      NYC82DA022 1982-01-15        Butler, Pa   \n",
       "...               ...             ...        ...               ...   \n",
       "73900  20221222106486      CEN23LA068 2022-12-21       Reserve, La   \n",
       "73901  20221227106491      ERA23LA093 2022-12-26     Annapolis, Md   \n",
       "73902  20221227106494      ERA23LA095 2022-12-26       Hampton, Nh   \n",
       "73904  20221227106498      WPR23LA076 2022-12-26        Morgan, Ut   \n",
       "73905  20221230106513      ERA23LA097 2022-12-29        Athens, Ga   \n",
       "\n",
       "             Country Airport.Code         Airport.Name Injury.Severity  \\\n",
       "9      United States          JAX    JACKSONVILLE INTL       Non-Fatal   \n",
       "10     United States          NaN                  NaN       Non-Fatal   \n",
       "11     United States          NaN             TUSKEGEE       Non-Fatal   \n",
       "81     United States          NaN  WASHINGTON NATIONAL       Fatal(78)   \n",
       "86     United States          3G9           BUTLER ROE       Non-Fatal   \n",
       "...              ...          ...                  ...             ...   \n",
       "73900  United States          NaN                  NaN           Minor   \n",
       "73901  United States          NaN                  NaN           Minor   \n",
       "73902  United States          NaN                  NaN             NaN   \n",
       "73904  United States          NaN                  NaN             NaN   \n",
       "73905  United States          NaN                  NaN           Minor   \n",
       "\n",
       "      Aircraft.damage Aircraft.Category  ... Schedule Purpose.of.flight  \\\n",
       "9         Substantial               NaN  ...      NaN          Personal   \n",
       "10        Substantial               NaN  ...      NaN          Personal   \n",
       "11        Substantial               NaN  ...      NaN          Personal   \n",
       "81          Destroyed               NaN  ...     SCHD           Unknown   \n",
       "86        Substantial               NaN  ...      NaN          Personal   \n",
       "...               ...               ...  ...      ...               ...   \n",
       "73900             NaN               NaN  ...      NaN     Instructional   \n",
       "73901             NaN               NaN  ...      NaN          Personal   \n",
       "73902             NaN               NaN  ...      NaN               NaN   \n",
       "73904             NaN               NaN  ...      NaN          Personal   \n",
       "73905             NaN               NaN  ...      NaN          Personal   \n",
       "\n",
       "              Air.carrier Total.Fatal.Injuries  Total.Serious.Injuries  \\\n",
       "9                     NaN                  0.0                     0.0   \n",
       "10                    NaN                  0.0                     0.0   \n",
       "11                    NaN                  0.0                     0.0   \n",
       "81       Air Florida, Inc                 78.0                     6.0   \n",
       "86                    NaN                  NaN                     NaN   \n",
       "...                   ...                  ...                     ...   \n",
       "73900                 NaN                  0.0                     1.0   \n",
       "73901                 NaN                  0.0                     1.0   \n",
       "73902                 NaN                  0.0                     0.0   \n",
       "73904  Mc Cessna 210N Llc                  0.0                     0.0   \n",
       "73905                 NaN                  0.0                     1.0   \n",
       "\n",
       "      Total.Minor.Injuries Total.Uninjured Weather.Condition  \\\n",
       "9                      3.0             0.0               IMC   \n",
       "10                     0.0             1.0               VMC   \n",
       "11                     0.0             1.0               VMC   \n",
       "81                     3.0             0.0               IMC   \n",
       "86                     NaN             2.0               VMC   \n",
       "...                    ...             ...               ...   \n",
       "73900                  0.0             1.0               NaN   \n",
       "73901                  0.0             0.0               NaN   \n",
       "73902                  0.0             0.0               NaN   \n",
       "73904                  0.0             0.0               NaN   \n",
       "73905                  0.0             1.0               NaN   \n",
       "\n",
       "      Broad.phase.of.flight   Report.Status  \n",
       "9                    Cruise  Probable Cause  \n",
       "10                 Approach  Probable Cause  \n",
       "11                  Landing  Probable Cause  \n",
       "81                  Takeoff  Probable Cause  \n",
       "86                 Approach  Probable Cause  \n",
       "...                     ...             ...  \n",
       "73900                   NaN             NaN  \n",
       "73901                   NaN             NaN  \n",
       "73902                   NaN             NaN  \n",
       "73904                   NaN             NaN  \n",
       "73905                   NaN             NaN  \n",
       "\n",
       "[49203 rows x 26 columns]"
      ]
     },
     "execution_count": 54,
     "metadata": {},
     "output_type": "execute_result"
    }
   ],
   "source": [
    "null_aircraft_category = df[df['Aircraft.Category'].isna()]\n",
    "null_aircraft_category"
   ]
  },
  {
   "cell_type": "code",
   "execution_count": 55,
   "metadata": {},
   "outputs": [
    {
     "data": {
      "text/plain": [
       "Index(['Event.Id', 'Accident.Number', 'Event.Date', 'Location', 'Country',\n",
       "       'Airport.Code', 'Airport.Name', 'Injury.Severity', 'Aircraft.damage',\n",
       "       'Aircraft.Category', 'Registration.Number', 'Make', 'Model',\n",
       "       'Amateur.Built', 'Number.of.Engines', 'Engine.Type', 'Schedule',\n",
       "       'Purpose.of.flight', 'Air.carrier', 'Total.Fatal.Injuries',\n",
       "       'Total.Serious.Injuries', 'Total.Minor.Injuries', 'Total.Uninjured',\n",
       "       'Weather.Condition', 'Broad.phase.of.flight', 'Report.Status'],\n",
       "      dtype='object')"
      ]
     },
     "execution_count": 55,
     "metadata": {},
     "output_type": "execute_result"
    }
   ],
   "source": [
    "null_aircraft_category.columns"
   ]
  },
  {
   "cell_type": "code",
   "execution_count": 56,
   "metadata": {},
   "outputs": [
    {
     "data": {
      "text/plain": [
       "Reciprocating    41761\n",
       "Turbo Shaft       2124\n",
       "Turbo Prop        1916\n",
       "Turbo Fan         1387\n",
       "Unknown           1184\n",
       "Turbo Jet          506\n",
       "Name: Engine.Type, dtype: int64"
      ]
     },
     "execution_count": 56,
     "metadata": {},
     "output_type": "execute_result"
    }
   ],
   "source": [
    "null_aircraft_category['Engine.Type'].value_counts()"
   ]
  },
  {
   "cell_type": "markdown",
   "metadata": {},
   "source": [
    "I suspect that engine type will be the best proxy of the existing columns for Aircraft Category. After doing some initial research, I can immediately classify all aircraft with turbo shaft as helicopters and all turbo prop, turbo fan, and turbo jet engines as airplanes. "
   ]
  },
  {
   "cell_type": "code",
   "execution_count": 77,
   "metadata": {},
   "outputs": [],
   "source": [
    "df.loc[(df['Aircraft.Category'].isna()) & (df['Engine.Type'] == 'Turbo Shaft'), 'Aircraft.Category'] = 'Helicopter'"
   ]
  },
  {
   "cell_type": "code",
   "execution_count": 79,
   "metadata": {},
   "outputs": [],
   "source": [
    "df.loc[(df['Aircraft.Category'].isna()) & (df['Engine.Type'] == 'Turbo Prop'), 'Aircraft.Category'] = 'Airplane'"
   ]
  },
  {
   "cell_type": "code",
   "execution_count": 80,
   "metadata": {},
   "outputs": [],
   "source": [
    "df.loc[(df['Aircraft.Category'].isna()) & (df['Engine.Type'] == 'Turbo Jet'), 'Aircraft.Category'] = 'Airplane'"
   ]
  },
  {
   "cell_type": "code",
   "execution_count": 83,
   "metadata": {},
   "outputs": [],
   "source": [
    "df.loc[(df['Aircraft.Category'].isna()) & (df['Engine.Type'] == 'Turbo Fan'), 'Aircraft.Category'] = 'Airplane'"
   ]
  },
  {
   "cell_type": "code",
   "execution_count": 88,
   "metadata": {},
   "outputs": [
    {
     "data": {
      "text/plain": [
       "Reciprocating    41761\n",
       "Unknown           1184\n",
       "Name: Engine.Type, dtype: int64"
      ]
     },
     "execution_count": 88,
     "metadata": {},
     "output_type": "execute_result"
    }
   ],
   "source": [
    "df.loc[(df['Aircraft.Category'].isna())]['Engine.Type'].value_counts()"
   ]
  },
  {
   "cell_type": "markdown",
   "metadata": {},
   "source": [
    "Unfortunately, both airplanes and helicopters can have reciprocating engines, so those entries cannot be immediately reclassified. In the rest of the dataset, there are 1210 entries of helicopters with reciprocating engines and 17387 entries of airplanes with reciprocating engines."
   ]
  },
  {
   "cell_type": "code",
   "execution_count": 59,
   "metadata": {},
   "outputs": [
    {
     "data": {
      "text/plain": [
       "17387"
      ]
     },
     "execution_count": 59,
     "metadata": {},
     "output_type": "execute_result"
    }
   ],
   "source": [
    "len(df[(df['Engine.Type'] =='Reciprocating') & (df['Aircraft.Category']=='Airplane')])"
   ]
  },
  {
   "cell_type": "code",
   "execution_count": 52,
   "metadata": {},
   "outputs": [
    {
     "data": {
      "text/plain": [
       "1210"
      ]
     },
     "execution_count": 52,
     "metadata": {},
     "output_type": "execute_result"
    }
   ],
   "source": [
    "len(df[(df['Engine.Type'] =='Reciprocating') & (df['Aircraft.Category']=='Helicopter')])"
   ]
  },
  {
   "cell_type": "code",
   "execution_count": 90,
   "metadata": {},
   "outputs": [
    {
     "data": {
      "text/plain": [
       "Cessna               17754\n",
       "Piper                 9667\n",
       "Beech                 3120\n",
       "Mooney                 893\n",
       "Grumman                850\n",
       "                     ...  \n",
       "American Aircraft        1\n",
       "Infinity                 1\n",
       "Universal                1\n",
       "Nanchang China           1\n",
       "Heli-Eagle Inc.          1\n",
       "Name: Make, Length: 500, dtype: int64"
      ]
     },
     "execution_count": 90,
     "metadata": {},
     "output_type": "execute_result"
    }
   ],
   "source": [
    "df.loc[(df['Aircraft.Category'].isna()) & (df['Engine.Type']=='Reciprocating')]['Make'].value_counts()"
   ]
  },
  {
   "cell_type": "markdown",
   "metadata": {},
   "source": [
    "Luckily, we can further eliminate some NaNs from the aircraft category using aircraft make now.\n",
    "After further research, I have discovered that Piper, Beech, and Mooney have never made helicopters. Cessna only ever made one helicopter model (the CH-1 Skyhook).  I will check for Skyhooks before seeting all Cessnas to 'Airplane'"
   ]
  },
  {
   "cell_type": "code",
   "execution_count": 97,
   "metadata": {},
   "outputs": [
    {
     "data": {
      "text/html": [
       "<div>\n",
       "<style scoped>\n",
       "    .dataframe tbody tr th:only-of-type {\n",
       "        vertical-align: middle;\n",
       "    }\n",
       "\n",
       "    .dataframe tbody tr th {\n",
       "        vertical-align: top;\n",
       "    }\n",
       "\n",
       "    .dataframe thead th {\n",
       "        text-align: right;\n",
       "    }\n",
       "</style>\n",
       "<table border=\"1\" class=\"dataframe\">\n",
       "  <thead>\n",
       "    <tr style=\"text-align: right;\">\n",
       "      <th></th>\n",
       "      <th>Event.Id</th>\n",
       "      <th>Accident.Number</th>\n",
       "      <th>Event.Date</th>\n",
       "      <th>Location</th>\n",
       "      <th>Country</th>\n",
       "      <th>Airport.Code</th>\n",
       "      <th>Airport.Name</th>\n",
       "      <th>Injury.Severity</th>\n",
       "      <th>Aircraft.damage</th>\n",
       "      <th>Aircraft.Category</th>\n",
       "      <th>...</th>\n",
       "      <th>Schedule</th>\n",
       "      <th>Purpose.of.flight</th>\n",
       "      <th>Air.carrier</th>\n",
       "      <th>Total.Fatal.Injuries</th>\n",
       "      <th>Total.Serious.Injuries</th>\n",
       "      <th>Total.Minor.Injuries</th>\n",
       "      <th>Total.Uninjured</th>\n",
       "      <th>Weather.Condition</th>\n",
       "      <th>Broad.phase.of.flight</th>\n",
       "      <th>Report.Status</th>\n",
       "    </tr>\n",
       "  </thead>\n",
       "  <tbody>\n",
       "  </tbody>\n",
       "</table>\n",
       "<p>0 rows × 26 columns</p>\n",
       "</div>"
      ],
      "text/plain": [
       "Empty DataFrame\n",
       "Columns: [Event.Id, Accident.Number, Event.Date, Location, Country, Airport.Code, Airport.Name, Injury.Severity, Aircraft.damage, Aircraft.Category, Registration.Number, Make, Model, Amateur.Built, Number.of.Engines, Engine.Type, Schedule, Purpose.of.flight, Air.carrier, Total.Fatal.Injuries, Total.Serious.Injuries, Total.Minor.Injuries, Total.Uninjured, Weather.Condition, Broad.phase.of.flight, Report.Status]\n",
       "Index: []\n",
       "\n",
       "[0 rows x 26 columns]"
      ]
     },
     "execution_count": 97,
     "metadata": {},
     "output_type": "execute_result"
    }
   ],
   "source": [
    "df.loc[(df['Aircraft.Category'].isna()) &       \n",
    "       (df['Engine.Type']=='Reciprocating') &\n",
    "       (df['Make'] == 'Cessna') &\n",
    "       (df['Model'].apply(lambda x: isinstance(x, str) and re.search(r'ch|skyhook', x, re.IGNORECASE) is not None))]"
   ]
  },
  {
   "cell_type": "markdown",
   "metadata": {},
   "source": [
    "Seeing no relevant Cessna entries with that name, I will set the aircraft category for each of the above to 'Airplane'."
   ]
  },
  {
   "cell_type": "code",
   "execution_count": 98,
   "metadata": {},
   "outputs": [],
   "source": [
    "df.loc[(df['Aircraft.Category'].isna()) & (df['Make'] == 'Cessna'), 'Aircraft.Category'] = 'Airplane'"
   ]
  },
  {
   "cell_type": "code",
   "execution_count": 99,
   "metadata": {},
   "outputs": [],
   "source": [
    "df.loc[(df['Aircraft.Category'].isna()) & (df['Make'] == 'Piper'), 'Aircraft.Category'] = 'Airplane'"
   ]
  },
  {
   "cell_type": "code",
   "execution_count": 100,
   "metadata": {},
   "outputs": [],
   "source": [
    "df.loc[(df['Aircraft.Category'].isna()) & (df['Make'] == 'Beech'), 'Aircraft.Category'] = 'Airplane'"
   ]
  },
  {
   "cell_type": "code",
   "execution_count": 101,
   "metadata": {},
   "outputs": [],
   "source": [
    "df.loc[(df['Aircraft.Category'].isna()) & (df['Make'] == 'Mooney'), 'Aircraft.Category'] = 'Airplane'"
   ]
  },
  {
   "cell_type": "markdown",
   "metadata": {},
   "source": [
    "### Registration Numbers with Multiple Incidents"
   ]
  },
  {
   "cell_type": "code",
   "execution_count": 151,
   "metadata": {},
   "outputs": [
    {
     "name": "stdout",
     "output_type": "stream",
     "text": [
      "Approximately 4.41% of aircraft in the dataframe have hade more than one incident recorded.\n"
     ]
    }
   ],
   "source": [
    "percent_multiple = (len(df['Registration.Number'])-len(df['Registration.Number'].unique()))/len(df['Registration.Number'])\n",
    "print(f'Approximately {round(percent_multiple*100,2)}% of aircraft in the dataframe have hade more than one incident recorded.')"
   ]
  },
  {
   "cell_type": "markdown",
   "metadata": {},
   "source": [
    "Around 4% of aircraft in the dataframe have had more than one incident recorded. It could be interesting to see what, if anything, is happening differently with those aircraft."
   ]
  },
  {
   "cell_type": "code",
   "execution_count": 39,
   "metadata": {},
   "outputs": [],
   "source": [
    "multi_incident_aircraft = [x for x in df['Registration.Number'].unique() if df['Registration.Number'].value_counts().get(x,0) >1]"
   ]
  },
  {
   "cell_type": "code",
   "execution_count": 89,
   "metadata": {},
   "outputs": [],
   "source": [
    "multi_incident_df = df[df['Registration.Number'].isin(multi_incident_aircraft)]"
   ]
  },
  {
   "cell_type": "code",
   "execution_count": 152,
   "metadata": {},
   "outputs": [
    {
     "data": {
      "text/html": [
       "<div>\n",
       "<style scoped>\n",
       "    .dataframe tbody tr th:only-of-type {\n",
       "        vertical-align: middle;\n",
       "    }\n",
       "\n",
       "    .dataframe tbody tr th {\n",
       "        vertical-align: top;\n",
       "    }\n",
       "\n",
       "    .dataframe thead th {\n",
       "        text-align: right;\n",
       "    }\n",
       "</style>\n",
       "<table border=\"1\" class=\"dataframe\">\n",
       "  <thead>\n",
       "    <tr style=\"text-align: right;\">\n",
       "      <th></th>\n",
       "      <th>Number.of.Engines</th>\n",
       "      <th>Total.Fatal.Injuries</th>\n",
       "      <th>Total.Serious.Injuries</th>\n",
       "      <th>Total.Minor.Injuries</th>\n",
       "      <th>Total.Uninjured</th>\n",
       "    </tr>\n",
       "  </thead>\n",
       "  <tbody>\n",
       "    <tr>\n",
       "      <th>count</th>\n",
       "      <td>1532.000000</td>\n",
       "      <td>1420.000000</td>\n",
       "      <td>1431.000000</td>\n",
       "      <td>1441.000000</td>\n",
       "      <td>1654.000000</td>\n",
       "    </tr>\n",
       "    <tr>\n",
       "      <th>mean</th>\n",
       "      <td>1.127285</td>\n",
       "      <td>0.249296</td>\n",
       "      <td>0.248777</td>\n",
       "      <td>0.181818</td>\n",
       "      <td>8.514510</td>\n",
       "    </tr>\n",
       "    <tr>\n",
       "      <th>std</th>\n",
       "      <td>0.374026</td>\n",
       "      <td>3.048093</td>\n",
       "      <td>1.723437</td>\n",
       "      <td>0.980492</td>\n",
       "      <td>35.073781</td>\n",
       "    </tr>\n",
       "    <tr>\n",
       "      <th>min</th>\n",
       "      <td>0.000000</td>\n",
       "      <td>0.000000</td>\n",
       "      <td>0.000000</td>\n",
       "      <td>0.000000</td>\n",
       "      <td>0.000000</td>\n",
       "    </tr>\n",
       "    <tr>\n",
       "      <th>25%</th>\n",
       "      <td>1.000000</td>\n",
       "      <td>0.000000</td>\n",
       "      <td>0.000000</td>\n",
       "      <td>0.000000</td>\n",
       "      <td>1.000000</td>\n",
       "    </tr>\n",
       "    <tr>\n",
       "      <th>50%</th>\n",
       "      <td>1.000000</td>\n",
       "      <td>0.000000</td>\n",
       "      <td>0.000000</td>\n",
       "      <td>0.000000</td>\n",
       "      <td>1.000000</td>\n",
       "    </tr>\n",
       "    <tr>\n",
       "      <th>75%</th>\n",
       "      <td>1.000000</td>\n",
       "      <td>0.000000</td>\n",
       "      <td>0.000000</td>\n",
       "      <td>0.000000</td>\n",
       "      <td>2.000000</td>\n",
       "    </tr>\n",
       "    <tr>\n",
       "      <th>max</th>\n",
       "      <td>4.000000</td>\n",
       "      <td>112.000000</td>\n",
       "      <td>53.000000</td>\n",
       "      <td>27.000000</td>\n",
       "      <td>380.000000</td>\n",
       "    </tr>\n",
       "  </tbody>\n",
       "</table>\n",
       "</div>"
      ],
      "text/plain": [
       "       Number.of.Engines  Total.Fatal.Injuries  Total.Serious.Injuries  \\\n",
       "count        1532.000000           1420.000000             1431.000000   \n",
       "mean            1.127285              0.249296                0.248777   \n",
       "std             0.374026              3.048093                1.723437   \n",
       "min             0.000000              0.000000                0.000000   \n",
       "25%             1.000000              0.000000                0.000000   \n",
       "50%             1.000000              0.000000                0.000000   \n",
       "75%             1.000000              0.000000                0.000000   \n",
       "max             4.000000            112.000000               53.000000   \n",
       "\n",
       "       Total.Minor.Injuries  Total.Uninjured  \n",
       "count           1441.000000      1654.000000  \n",
       "mean               0.181818         8.514510  \n",
       "std                0.980492        35.073781  \n",
       "min                0.000000         0.000000  \n",
       "25%                0.000000         1.000000  \n",
       "50%                0.000000         1.000000  \n",
       "75%                0.000000         2.000000  \n",
       "max               27.000000       380.000000  "
      ]
     },
     "execution_count": 152,
     "metadata": {},
     "output_type": "execute_result"
    }
   ],
   "source": [
    "multi_incident_df.describe()"
   ]
  },
  {
   "cell_type": "code",
   "execution_count": 153,
   "metadata": {},
   "outputs": [
    {
     "data": {
      "text/html": [
       "<div>\n",
       "<style scoped>\n",
       "    .dataframe tbody tr th:only-of-type {\n",
       "        vertical-align: middle;\n",
       "    }\n",
       "\n",
       "    .dataframe tbody tr th {\n",
       "        vertical-align: top;\n",
       "    }\n",
       "\n",
       "    .dataframe thead th {\n",
       "        text-align: right;\n",
       "    }\n",
       "</style>\n",
       "<table border=\"1\" class=\"dataframe\">\n",
       "  <thead>\n",
       "    <tr style=\"text-align: right;\">\n",
       "      <th></th>\n",
       "      <th>Number.of.Engines</th>\n",
       "      <th>Total.Fatal.Injuries</th>\n",
       "      <th>Total.Serious.Injuries</th>\n",
       "      <th>Total.Minor.Injuries</th>\n",
       "      <th>Total.Uninjured</th>\n",
       "    </tr>\n",
       "  </thead>\n",
       "  <tbody>\n",
       "    <tr>\n",
       "      <th>count</th>\n",
       "      <td>21866.000000</td>\n",
       "      <td>21651.000000</td>\n",
       "      <td>21571.000000</td>\n",
       "      <td>21855.000000</td>\n",
       "      <td>23699.000000</td>\n",
       "    </tr>\n",
       "    <tr>\n",
       "      <th>mean</th>\n",
       "      <td>1.178542</td>\n",
       "      <td>0.692301</td>\n",
       "      <td>0.304112</td>\n",
       "      <td>0.237795</td>\n",
       "      <td>7.072071</td>\n",
       "    </tr>\n",
       "    <tr>\n",
       "      <th>std</th>\n",
       "      <td>0.428836</td>\n",
       "      <td>6.305217</td>\n",
       "      <td>2.222186</td>\n",
       "      <td>1.689566</td>\n",
       "      <td>33.701013</td>\n",
       "    </tr>\n",
       "    <tr>\n",
       "      <th>min</th>\n",
       "      <td>0.000000</td>\n",
       "      <td>0.000000</td>\n",
       "      <td>0.000000</td>\n",
       "      <td>0.000000</td>\n",
       "      <td>0.000000</td>\n",
       "    </tr>\n",
       "    <tr>\n",
       "      <th>25%</th>\n",
       "      <td>1.000000</td>\n",
       "      <td>0.000000</td>\n",
       "      <td>0.000000</td>\n",
       "      <td>0.000000</td>\n",
       "      <td>0.000000</td>\n",
       "    </tr>\n",
       "    <tr>\n",
       "      <th>50%</th>\n",
       "      <td>1.000000</td>\n",
       "      <td>0.000000</td>\n",
       "      <td>0.000000</td>\n",
       "      <td>0.000000</td>\n",
       "      <td>1.000000</td>\n",
       "    </tr>\n",
       "    <tr>\n",
       "      <th>75%</th>\n",
       "      <td>1.000000</td>\n",
       "      <td>0.000000</td>\n",
       "      <td>0.000000</td>\n",
       "      <td>0.000000</td>\n",
       "      <td>2.000000</td>\n",
       "    </tr>\n",
       "    <tr>\n",
       "      <th>max</th>\n",
       "      <td>8.000000</td>\n",
       "      <td>295.000000</td>\n",
       "      <td>161.000000</td>\n",
       "      <td>200.000000</td>\n",
       "      <td>588.000000</td>\n",
       "    </tr>\n",
       "  </tbody>\n",
       "</table>\n",
       "</div>"
      ],
      "text/plain": [
       "       Number.of.Engines  Total.Fatal.Injuries  Total.Serious.Injuries  \\\n",
       "count       21866.000000          21651.000000            21571.000000   \n",
       "mean            1.178542              0.692301                0.304112   \n",
       "std             0.428836              6.305217                2.222186   \n",
       "min             0.000000              0.000000                0.000000   \n",
       "25%             1.000000              0.000000                0.000000   \n",
       "50%             1.000000              0.000000                0.000000   \n",
       "75%             1.000000              0.000000                0.000000   \n",
       "max             8.000000            295.000000              161.000000   \n",
       "\n",
       "       Total.Minor.Injuries  Total.Uninjured  \n",
       "count          21855.000000     23699.000000  \n",
       "mean               0.237795         7.072071  \n",
       "std                1.689566        33.701013  \n",
       "min                0.000000         0.000000  \n",
       "25%                0.000000         0.000000  \n",
       "50%                0.000000         1.000000  \n",
       "75%                0.000000         2.000000  \n",
       "max              200.000000       588.000000  "
      ]
     },
     "execution_count": 153,
     "metadata": {},
     "output_type": "execute_result"
    }
   ],
   "source": [
    "df.describe()"
   ]
  },
  {
   "cell_type": "markdown",
   "metadata": {},
   "source": [
    "### Concluding EDA\n",
    "After going through some initial exploration and cleaning of the data, we are down to 24417 entires. These reflect a population of incidents which are more useful for understanding the safety challenges of general and commercial aviation."
   ]
  },
  {
   "cell_type": "markdown",
   "metadata": {},
   "source": [
    "## Initial Thoughts\n",
    "From looking at the columns, there are a lot of columns with relatively high null values.  For example, Air.carrier\n",
    "\n",
    "Which aircraft saw the biggest drops in fatalities over the years? <br>\n",
    "Did any aircraft see an increase in fatalities over the years? <br>\n",
    "\n",
    "### Visualizations:\n",
    "Total crashes over time <br>\n",
    "Geographic plot of crashes\n",
    "\n"
   ]
  },
  {
   "cell_type": "markdown",
   "metadata": {},
   "source": [
    "### High-Level Summary Statistics"
   ]
  },
  {
   "cell_type": "code",
   "execution_count": 188,
   "metadata": {},
   "outputs": [
    {
     "data": {
      "text/plain": [
       "1948       1\n",
       "1962       1\n",
       "1974       1\n",
       "1977       1\n",
       "1979       2\n",
       "1981       1\n",
       "1982    3593\n",
       "1983    3556\n",
       "1984    3457\n",
       "1985    3096\n",
       "1986    2880\n",
       "1987    2828\n",
       "1988    2730\n",
       "1989    2544\n",
       "1990    2518\n",
       "1991    2462\n",
       "1992    2355\n",
       "1993    2313\n",
       "1994    2257\n",
       "1995    2309\n",
       "1996    2187\n",
       "1997    2148\n",
       "1998    2226\n",
       "1999    2209\n",
       "2000    2220\n",
       "2001    2063\n",
       "2002    2020\n",
       "2003    2085\n",
       "2004    1952\n",
       "2005    2031\n",
       "2006    1851\n",
       "2007    2016\n",
       "2008    1893\n",
       "2009    1783\n",
       "2010    1786\n",
       "2011    1850\n",
       "2012    1835\n",
       "2013    1561\n",
       "2014    1535\n",
       "2015    1582\n",
       "2016    1664\n",
       "2017    1638\n",
       "2018    1681\n",
       "2019    1624\n",
       "2020    1392\n",
       "2021    1545\n",
       "2022    1607\n",
       "Name: Event.Date, dtype: int64"
      ]
     },
     "execution_count": 188,
     "metadata": {},
     "output_type": "execute_result"
    }
   ],
   "source": [
    "base_df['Event.Date'].dt.year.value_counts().sort_index(ascending=True)"
   ]
  },
  {
   "cell_type": "code",
   "execution_count": 212,
   "metadata": {},
   "outputs": [
    {
     "data": {
      "text/plain": [
       "1979       1\n",
       "1982    2954\n",
       "1983      10\n",
       "1984       7\n",
       "1985       6\n",
       "1986       8\n",
       "1987       3\n",
       "1988       8\n",
       "1989       7\n",
       "1990      19\n",
       "1991      14\n",
       "1992       5\n",
       "1993       6\n",
       "1994       5\n",
       "1995       7\n",
       "1996       7\n",
       "1997      17\n",
       "1998       6\n",
       "1999      11\n",
       "2000      12\n",
       "2001      24\n",
       "2002      50\n",
       "2003     133\n",
       "2004     420\n",
       "2005     605\n",
       "2006     611\n",
       "2007     820\n",
       "2008    1279\n",
       "2009    1127\n",
       "2010    1163\n",
       "2011    1189\n",
       "2012    1122\n",
       "2013     970\n",
       "2014     932\n",
       "2015     962\n",
       "2016    1011\n",
       "2017     977\n",
       "2018     981\n",
       "2019     961\n",
       "2020     857\n",
       "2021     898\n",
       "2022     916\n",
       "Name: Event.Date, dtype: int64"
      ]
     },
     "execution_count": 212,
     "metadata": {},
     "output_type": "execute_result"
    }
   ],
   "source": [
    "df['Event.Date'].dt.year.value_counts().sort_index(ascending=True)"
   ]
  },
  {
   "cell_type": "code",
   "execution_count": 245,
   "metadata": {},
   "outputs": [
    {
     "data": {
      "image/png": "[encoded data removed]",
      "text/plain": [
       "<Figure size 864x576 with 1 Axes>"
      ]
     },
     "metadata": {},
     "output_type": "display_data"
    }
   ],
   "source": [
    "# Total Incidents Per Year\n",
    "base_df['Event.Date'] = pd.to_datetime(base_df['Event.Date'])\n",
    "dates = base_df['Event.Date'].value_counts().sort_index(ascending=True)\n",
    "airplane_dates = df['Event.Date'].value_counts().sort_index(ascending=True)\n",
    "# Dropping some index values for years with very low counts to make the plot more legible\n",
    "#dates_to_drop = pd.to_datetime(['1948-10-24', '1962-07-19','1974-08-30', '1977-06-19', '1979-08-02', '1979-09-17','1981-08-01',])\n",
    "#dates.drop(index=dates_to_drop,inplace=True)\n",
    "\n",
    "import seaborn as sns\n",
    "\n",
    "fig,ax=plt.subplots(figsize=(12,8))\n",
    "\n",
    "total_counts = dates.groupby(dates.index.year).sum()\n",
    "airplane_counts = airplane_dates.groupby(airplane_dates.index.year).sum()\n",
    "total_years = total_counts.index\n",
    "airplane_years = airplane_counts.index\n",
    "\n",
    "sns.set_style('darkgrid')\n",
    "\n",
    "ax.plot(years, total_counts, label='Total Incidents', color='blue')\n",
    "ax.plot(airplane_years, airplane_counts, label='Airplane Incidents', color='orange')\n",
    "ax.set_title('Total Aviation Incidents Per Year (1982-2022)', fontsize=14)\n",
    "ax.set_ylabel('Number of Incidents', fontsize=14)\n",
    "ax.set_xlabel('Year', fontsize=14)\n",
    "plt.show()"
   ]
  },
  {
   "cell_type": "code",
   "execution_count": 253,
   "metadata": {},
   "outputs": [
    {
     "data": {
      "text/plain": [
       "0            Stinson\n",
       "1              Piper\n",
       "2             Cessna\n",
       "3           Rockwell\n",
       "4             Cessna\n",
       "            ...     \n",
       "88883    AIR TRACTOR\n",
       "88884          PIPER\n",
       "88885       BELLANCA\n",
       "88887         CESSNA\n",
       "88888          PIPER\n",
       "Name: Make, Length: 56602, dtype: object"
      ]
     },
     "execution_count": 253,
     "metadata": {},
     "output_type": "execute_result"
    }
   ],
   "source": [
    "df[df['Aircraft.Category'].isna()]['Make']"
   ]
  },
  {
   "cell_type": "code",
   "execution_count": 250,
   "metadata": {},
   "outputs": [],
   "source": [
    "df[(df['Aircraft.Category'].isna()) & (df['Make'] == 'Cessna')]['Aircraft.Category'].fillna('Airplane',inplace=True)"
   ]
  },
  {
   "cell_type": "code",
   "execution_count": null,
   "metadata": {},
   "outputs": [],
   "source": []
  }
 ],
 "metadata": {
  "kernelspec": {
   "display_name": "learn-env",
   "language": "python",
   "name": "learn-env"
  },
  "language_info": {
   "codemirror_mode": {
    "name": "ipython",
    "version": 3
   },
   "file_extension": ".py",
   "mimetype": "text/x-python",
   "name": "python",
   "nbconvert_exporter": "python",
   "pygments_lexer": "ipython3",
   "version": "3.8.5"
  }
 },
 "nbformat": 4,
 "nbformat_minor": 4
}
