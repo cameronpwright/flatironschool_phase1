{
 "cells": [
  {
   "cell_type": "code",
   "execution_count": 62,
   "metadata": {},
   "outputs": [
    {
     "name": "stdout",
     "output_type": "stream",
     "text": [
      "Warning: Looks like you're using an outdated `kagglehub` version, please consider updating (latest version: 0.3.6)\n"
     ]
    }
   ],
   "source": [
    "import kagglehub as kg\n",
    "path = kg.dataset_download(\"khsamaha/aviation-accident-database-synopses\")"
   ]
  },
  {
   "cell_type": "code",
   "execution_count": 63,
   "metadata": {},
   "outputs": [],
   "source": [
    "encoding = 'Windows-1252'\n",
    "with open(path + '/AviationData.csv', 'r', encoding=encoding) as f:\n",
    "    data = f.read()\n",
    "\n",
    "with open('AviationData_utf8.csv', 'w', encoding='utf-8') as f:\n",
    "    f.write(data)"
   ]
  },
  {
   "cell_type": "code",
   "execution_count": 64,
   "metadata": {},
   "outputs": [],
   "source": [
    "import pandas as pd\n",
    "df = pd.read_csv('AviationData_utf8.csv', low_memory=False)"
   ]
  },
  {
   "cell_type": "code",
   "execution_count": 5,
   "metadata": {},
   "outputs": [],
   "source": [
    "import numpy as np\n",
    "import re\n",
    "import matplotlib.pyplot as plt\n",
    "\n",
    "%matplotlib inline"
   ]
  },
  {
   "cell_type": "markdown",
   "metadata": {},
   "source": [
    "## EDA and Data Cleaning\n",
    "First, I want to get a sense of the dataset itself and what transformations and cleaning may need to be done to get it in a workable format. \n",
    "\n",
    "From looking at the columns of the dataset, certain columns have a relatively large proportion of null values (e.g., latitutde and longitude; airport name; and air carrier)."
   ]
  },
  {
   "cell_type": "code",
   "execution_count": 65,
   "metadata": {
    "scrolled": false
   },
   "outputs": [
    {
     "name": "stdout",
     "output_type": "stream",
     "text": [
      "<class 'pandas.core.frame.DataFrame'>\n",
      "RangeIndex: 88889 entries, 0 to 88888\n",
      "Data columns (total 31 columns):\n",
      " #   Column                  Non-Null Count  Dtype  \n",
      "---  ------                  --------------  -----  \n",
      " 0   Event.Id                88889 non-null  object \n",
      " 1   Investigation.Type      88889 non-null  object \n",
      " 2   Accident.Number         88889 non-null  object \n",
      " 3   Event.Date              88889 non-null  object \n",
      " 4   Location                88837 non-null  object \n",
      " 5   Country                 88663 non-null  object \n",
      " 6   Latitude                34382 non-null  object \n",
      " 7   Longitude               34373 non-null  object \n",
      " 8   Airport.Code            50249 non-null  object \n",
      " 9   Airport.Name            52790 non-null  object \n",
      " 10  Injury.Severity         87889 non-null  object \n",
      " 11  Aircraft.damage         85695 non-null  object \n",
      " 12  Aircraft.Category       32287 non-null  object \n",
      " 13  Registration.Number     87572 non-null  object \n",
      " 14  Make                    88826 non-null  object \n",
      " 15  Model                   88797 non-null  object \n",
      " 16  Amateur.Built           88787 non-null  object \n",
      " 17  Number.of.Engines       82805 non-null  float64\n",
      " 18  Engine.Type             81812 non-null  object \n",
      " 19  FAR.Description         32023 non-null  object \n",
      " 20  Schedule                12582 non-null  object \n",
      " 21  Purpose.of.flight       82697 non-null  object \n",
      " 22  Air.carrier             16648 non-null  object \n",
      " 23  Total.Fatal.Injuries    77488 non-null  float64\n",
      " 24  Total.Serious.Injuries  76379 non-null  float64\n",
      " 25  Total.Minor.Injuries    76956 non-null  float64\n",
      " 26  Total.Uninjured         82977 non-null  float64\n",
      " 27  Weather.Condition       84397 non-null  object \n",
      " 28  Broad.phase.of.flight   61724 non-null  object \n",
      " 29  Report.Status           82508 non-null  object \n",
      " 30  Publication.Date        75118 non-null  object \n",
      "dtypes: float64(5), object(26)\n",
      "memory usage: 21.0+ MB\n"
     ]
    }
   ],
   "source": [
    "df.info()"
   ]
  },
  {
   "cell_type": "markdown",
   "metadata": {},
   "source": [
    "Again, given that we are interested in commercial aviation use, let's narrow our focus to airplanes only."
   ]
  },
  {
   "cell_type": "code",
   "execution_count": 66,
   "metadata": {},
   "outputs": [],
   "source": [
    "df = df[df['Aircraft.Category'].isin(['Airplane'])].reset_index()"
   ]
  },
  {
   "cell_type": "markdown",
   "metadata": {},
   "source": [
    "### Dropping Unhelpful Columns\n",
    "I'm choosing to drop columns which are of limited use for my purposes here, e.g. those with redundant info (lat./long. when I already have location) and report status (string-based narrative data)."
   ]
  },
  {
   "cell_type": "code",
   "execution_count": 68,
   "metadata": {},
   "outputs": [],
   "source": [
    "df.drop(['index','Latitude','Longitude','Investigation.Type',\n",
    "         'Publication.Date','FAR.Description'],axis=1,inplace=True)"
   ]
  },
  {
   "cell_type": "markdown",
   "metadata": {},
   "source": [
    "### Event Date\n",
    "Event.Date column is not in datetime format, I'll correct this."
   ]
  },
  {
   "cell_type": "code",
   "execution_count": 70,
   "metadata": {},
   "outputs": [
    {
     "data": {
      "text/plain": [
       "str"
      ]
     },
     "execution_count": 70,
     "metadata": {},
     "output_type": "execute_result"
    }
   ],
   "source": [
    "type(df['Event.Date'][1])"
   ]
  },
  {
   "cell_type": "code",
   "execution_count": 71,
   "metadata": {},
   "outputs": [],
   "source": [
    "df['Event.Date'] = pd.to_datetime(df['Event.Date'])"
   ]
  },
  {
   "cell_type": "code",
   "execution_count": 72,
   "metadata": {},
   "outputs": [
    {
     "data": {
      "text/plain": [
       "pandas._libs.tslibs.timestamps.Timestamp"
      ]
     },
     "execution_count": 72,
     "metadata": {},
     "output_type": "execute_result"
    }
   ],
   "source": [
    "type(df['Event.Date'][1])"
   ]
  },
  {
   "cell_type": "markdown",
   "metadata": {},
   "source": [
    "### Air Carrier\n",
    "Of the air carrier values with non-null entries , it seems that the values are a mix of established carriers (e.g., American, United) which are likely to be helpful in my analysis and other values (e.g., YOUNGBLOOD LARRY J) which are likely to be less helpful when looking at commercial aviation."
   ]
  },
  {
   "cell_type": "code",
   "execution_count": 73,
   "metadata": {},
   "outputs": [
    {
     "data": {
      "text/plain": [
       "Pilot                                  231\n",
       "American Airlines                       47\n",
       "United Airlines                         43\n",
       "Delta Air Lines                         42\n",
       "SOUTHWEST AIRLINES CO                   41\n",
       "                                      ... \n",
       "J A FLIGHT SERVICES LLC                  1\n",
       "Business & Pleasure Air Charter LLC      1\n",
       "Richard T Gardner                        1\n",
       "Facebook, Inc.                           1\n",
       "HOHMANN COURTNEY P                       1\n",
       "Name: Air.carrier, Length: 9592, dtype: int64"
      ]
     },
     "execution_count": 73,
     "metadata": {},
     "output_type": "execute_result"
    }
   ],
   "source": [
    "df['Air.carrier'].value_counts()"
   ]
  },
  {
   "cell_type": "code",
   "execution_count": 74,
   "metadata": {},
   "outputs": [
    {
     "data": {
      "text/plain": [
       "Pilot                            231\n",
       "American Airlines                 47\n",
       "Southwest Airlines Co             43\n",
       "United Airlines                   43\n",
       "Delta Air Lines                   42\n",
       "                                ... \n",
       "Germania Fluggesellschaft Mbh      1\n",
       "Walter J. Book                     1\n",
       "Wallace Wayne P                    1\n",
       "Riley W Kent                       1\n",
       "Randy Coyne                        1\n",
       "Name: Air.carrier, Length: 9332, dtype: int64"
      ]
     },
     "execution_count": 74,
     "metadata": {},
     "output_type": "execute_result"
    }
   ],
   "source": [
    "df['Air.carrier'].str.title().value_counts()"
   ]
  },
  {
   "cell_type": "markdown",
   "metadata": {},
   "source": [
    "I want to eliminate as much duplication of air carriers that results from case sensitivity."
   ]
  },
  {
   "cell_type": "code",
   "execution_count": 75,
   "metadata": {},
   "outputs": [],
   "source": [
    "df['Air.carrier'] = df['Air.carrier'].str.title()"
   ]
  },
  {
   "cell_type": "markdown",
   "metadata": {},
   "source": [
    "### Aircraft Make and Model\n",
    "I see that Aircraft Make is likely to be a problem. For example, \"Cessna\" and \"CESSNA\" both appear here -- I will standardize the cases."
   ]
  },
  {
   "cell_type": "code",
   "execution_count": 76,
   "metadata": {},
   "outputs": [
    {
     "data": {
      "text/plain": [
       "Make\n",
       "CESSNA                4867\n",
       "Cessna                3608\n",
       "PIPER                 2805\n",
       "Piper                 1910\n",
       "BOEING                1037\n",
       "                      ... \n",
       "Merit Aviation Llc       1\n",
       "Menefee                  1\n",
       "Mendenhall               1\n",
       "Mellema                  1\n",
       "177MF LLC                1\n",
       "Length: 3874, dtype: int64"
      ]
     },
     "execution_count": 76,
     "metadata": {},
     "output_type": "execute_result"
    }
   ],
   "source": [
    "df.value_counts('Make')"
   ]
  },
  {
   "cell_type": "code",
   "execution_count": 77,
   "metadata": {},
   "outputs": [
    {
     "data": {
      "text/plain": [
       "Cessna                     8475\n",
       "Piper                      4715\n",
       "Beech                      1692\n",
       "Boeing                     1324\n",
       "Mooney                      419\n",
       "                           ... \n",
       "Woods Rufus Iii               1\n",
       "Blevins Kamron                1\n",
       "Experimental Amat Built       1\n",
       "Schaffer                      1\n",
       "Karpayev Vladyslav V          1\n",
       "Name: Make, Length: 3537, dtype: int64"
      ]
     },
     "execution_count": 77,
     "metadata": {},
     "output_type": "execute_result"
    }
   ],
   "source": [
    "df['Make'].str.title().value_counts()"
   ]
  },
  {
   "cell_type": "markdown",
   "metadata": {},
   "source": [
    "By converting all strings in the Make column to the same case, 337 erroneously separated values were consolidated and the count of \"Cessna\" increased by ~74%. I'll permanently convert this column to title case and check if the same issue exists in the Model column."
   ]
  },
  {
   "cell_type": "code",
   "execution_count": 78,
   "metadata": {},
   "outputs": [],
   "source": [
    "df['Make'] = df['Make'].str.title()"
   ]
  },
  {
   "cell_type": "code",
   "execution_count": 79,
   "metadata": {},
   "outputs": [
    {
     "data": {
      "text/plain": [
       "172                 870\n",
       "152                 451\n",
       "737                 404\n",
       "182                 345\n",
       "172N                316\n",
       "                   ... \n",
       "TB 21-TC              1\n",
       "PIPER PA-28-140       1\n",
       "707-323C              1\n",
       "GLASAIR III T         1\n",
       "TB10 - NO SERIES      1\n",
       "Name: Model, Length: 5367, dtype: int64"
      ]
     },
     "execution_count": 79,
     "metadata": {},
     "output_type": "execute_result"
    }
   ],
   "source": [
    "df['Model'].value_counts()"
   ]
  },
  {
   "cell_type": "code",
   "execution_count": 80,
   "metadata": {},
   "outputs": [
    {
     "data": {
      "text/plain": [
       "172                 870\n",
       "152                 451\n",
       "737                 404\n",
       "182                 345\n",
       "172N                316\n",
       "                   ... \n",
       "Pa-28-R200            1\n",
       "550B                  1\n",
       "Wag Aero Sport        1\n",
       "Ch701Sp               1\n",
       "Wittman Tailwind      1\n",
       "Name: Model, Length: 5080, dtype: int64"
      ]
     },
     "execution_count": 80,
     "metadata": {},
     "output_type": "execute_result"
    }
   ],
   "source": [
    "df['Model'].str.title().value_counts()"
   ]
  },
  {
   "cell_type": "markdown",
   "metadata": {},
   "source": [
    "Converting cases wasn't as impactful for the Model column, likely because Model values are more likely to be numeric in nature. Nonetheless, it decreased the number of unique values by ~5%, so I'll convert to title case."
   ]
  },
  {
   "cell_type": "code",
   "execution_count": 81,
   "metadata": {},
   "outputs": [],
   "source": [
    "df['Model'] = df['Model'].str.title()"
   ]
  },
  {
   "cell_type": "markdown",
   "metadata": {},
   "source": [
    "### Location\n",
    "I'll standardize the case for location as well."
   ]
  },
  {
   "cell_type": "code",
   "execution_count": 82,
   "metadata": {},
   "outputs": [],
   "source": [
    "df['Location'] = df['Location'].str.title()"
   ]
  },
  {
   "cell_type": "markdown",
   "metadata": {},
   "source": [
    "### Amateur vs Commercial Aircraft\n",
    "This analysis should only focus on commercial aviation, so I'll exclude any amateur-built aircraft."
   ]
  },
  {
   "cell_type": "code",
   "execution_count": 83,
   "metadata": {},
   "outputs": [
    {
     "data": {
      "text/plain": [
       "Amateur.Built\n",
       "No     24417\n",
       "Yes     3183\n",
       "dtype: int64"
      ]
     },
     "execution_count": 83,
     "metadata": {},
     "output_type": "execute_result"
    }
   ],
   "source": [
    "df.value_counts('Amateur.Built')"
   ]
  },
  {
   "cell_type": "code",
   "execution_count": 85,
   "metadata": {},
   "outputs": [],
   "source": [
    "df = df[df['Amateur.Built'] == 'No'].reset_index().drop(['index'], axis=1)"
   ]
  },
  {
   "cell_type": "code",
   "execution_count": 86,
   "metadata": {},
   "outputs": [
    {
     "name": "stdout",
     "output_type": "stream",
     "text": [
      "<class 'pandas.core.frame.DataFrame'>\n",
      "RangeIndex: 24417 entries, 0 to 24416\n",
      "Data columns (total 26 columns):\n",
      " #   Column                  Non-Null Count  Dtype         \n",
      "---  ------                  --------------  -----         \n",
      " 0   Event.Id                24417 non-null  object        \n",
      " 1   Accident.Number         24417 non-null  object        \n",
      " 2   Event.Date              24417 non-null  datetime64[ns]\n",
      " 3   Location                24411 non-null  object        \n",
      " 4   Country                 24410 non-null  object        \n",
      " 5   Airport.Code            15574 non-null  object        \n",
      " 6   Airport.Name            16012 non-null  object        \n",
      " 7   Injury.Severity         23604 non-null  object        \n",
      " 8   Aircraft.damage         23147 non-null  object        \n",
      " 9   Aircraft.Category       24417 non-null  object        \n",
      " 10  Registration.Number     24214 non-null  object        \n",
      " 11  Make                    24414 non-null  object        \n",
      " 12  Model                   24399 non-null  object        \n",
      " 13  Amateur.Built           24417 non-null  object        \n",
      " 14  Number.of.Engines       21866 non-null  float64       \n",
      " 15  Engine.Type             20461 non-null  object        \n",
      " 16  Schedule                2936 non-null   object        \n",
      " 17  Purpose.of.flight       20734 non-null  object        \n",
      " 18  Air.carrier             10356 non-null  object        \n",
      " 19  Total.Fatal.Injuries    21651 non-null  float64       \n",
      " 20  Total.Serious.Injuries  21571 non-null  float64       \n",
      " 21  Total.Minor.Injuries    21855 non-null  float64       \n",
      " 22  Total.Uninjured         23699 non-null  float64       \n",
      " 23  Weather.Condition       21438 non-null  object        \n",
      " 24  Broad.phase.of.flight   5796 non-null   object        \n",
      " 25  Report.Status           19755 non-null  object        \n",
      "dtypes: datetime64[ns](1), float64(5), object(20)\n",
      "memory usage: 4.8+ MB\n"
     ]
    }
   ],
   "source": [
    "df.info()"
   ]
  },
  {
   "cell_type": "markdown",
   "metadata": {},
   "source": [
    "### Registration Numbers with Multiple Incidents"
   ]
  },
  {
   "cell_type": "code",
   "execution_count": 87,
   "metadata": {},
   "outputs": [
    {
     "data": {
      "text/plain": [
       "0.04406765777941598"
      ]
     },
     "execution_count": 87,
     "metadata": {},
     "output_type": "execute_result"
    }
   ],
   "source": [
    "(len(df['Registration.Number'])-len(df['Registration.Number'].unique()))/len(df['Registration.Number'])"
   ]
  },
  {
   "cell_type": "markdown",
   "metadata": {},
   "source": [
    "Around 4% of aircraft in the dataframe have had more than one incident recorded. It could be interesting to see what, if anything, is happening differently with those aircraft."
   ]
  },
  {
   "cell_type": "code",
   "execution_count": 39,
   "metadata": {},
   "outputs": [],
   "source": [
    "multi_incident_aircraft = [x for x in df['Registration.Number'].unique() if df['Registration.Number'].value_counts().get(x,0) >1]"
   ]
  },
  {
   "cell_type": "code",
   "execution_count": 89,
   "metadata": {},
   "outputs": [],
   "source": [
    "multi_incident_df = df[df['Registration.Number'].isin(multi_incident_aircraft)]"
   ]
  },
  {
   "cell_type": "code",
   "execution_count": 92,
   "metadata": {},
   "outputs": [
    {
     "data": {
      "text/html": [
       "<div>\n",
       "<style scoped>\n",
       "    .dataframe tbody tr th:only-of-type {\n",
       "        vertical-align: middle;\n",
       "    }\n",
       "\n",
       "    .dataframe tbody tr th {\n",
       "        vertical-align: top;\n",
       "    }\n",
       "\n",
       "    .dataframe thead th {\n",
       "        text-align: right;\n",
       "    }\n",
       "</style>\n",
       "<table border=\"1\" class=\"dataframe\">\n",
       "  <thead>\n",
       "    <tr style=\"text-align: right;\">\n",
       "      <th></th>\n",
       "      <th>Number.of.Engines</th>\n",
       "      <th>Total.Fatal.Injuries</th>\n",
       "      <th>Total.Serious.Injuries</th>\n",
       "      <th>Total.Minor.Injuries</th>\n",
       "      <th>Total.Uninjured</th>\n",
       "    </tr>\n",
       "  </thead>\n",
       "  <tbody>\n",
       "    <tr>\n",
       "      <th>count</th>\n",
       "      <td>1532.000000</td>\n",
       "      <td>1420.000000</td>\n",
       "      <td>1431.000000</td>\n",
       "      <td>1441.000000</td>\n",
       "      <td>1654.000000</td>\n",
       "    </tr>\n",
       "    <tr>\n",
       "      <th>mean</th>\n",
       "      <td>1.127285</td>\n",
       "      <td>0.249296</td>\n",
       "      <td>0.248777</td>\n",
       "      <td>0.181818</td>\n",
       "      <td>8.514510</td>\n",
       "    </tr>\n",
       "    <tr>\n",
       "      <th>std</th>\n",
       "      <td>0.374026</td>\n",
       "      <td>3.048093</td>\n",
       "      <td>1.723437</td>\n",
       "      <td>0.980492</td>\n",
       "      <td>35.073781</td>\n",
       "    </tr>\n",
       "    <tr>\n",
       "      <th>min</th>\n",
       "      <td>0.000000</td>\n",
       "      <td>0.000000</td>\n",
       "      <td>0.000000</td>\n",
       "      <td>0.000000</td>\n",
       "      <td>0.000000</td>\n",
       "    </tr>\n",
       "    <tr>\n",
       "      <th>25%</th>\n",
       "      <td>1.000000</td>\n",
       "      <td>0.000000</td>\n",
       "      <td>0.000000</td>\n",
       "      <td>0.000000</td>\n",
       "      <td>1.000000</td>\n",
       "    </tr>\n",
       "    <tr>\n",
       "      <th>50%</th>\n",
       "      <td>1.000000</td>\n",
       "      <td>0.000000</td>\n",
       "      <td>0.000000</td>\n",
       "      <td>0.000000</td>\n",
       "      <td>1.000000</td>\n",
       "    </tr>\n",
       "    <tr>\n",
       "      <th>75%</th>\n",
       "      <td>1.000000</td>\n",
       "      <td>0.000000</td>\n",
       "      <td>0.000000</td>\n",
       "      <td>0.000000</td>\n",
       "      <td>2.000000</td>\n",
       "    </tr>\n",
       "    <tr>\n",
       "      <th>max</th>\n",
       "      <td>4.000000</td>\n",
       "      <td>112.000000</td>\n",
       "      <td>53.000000</td>\n",
       "      <td>27.000000</td>\n",
       "      <td>380.000000</td>\n",
       "    </tr>\n",
       "  </tbody>\n",
       "</table>\n",
       "</div>"
      ],
      "text/plain": [
       "       Number.of.Engines  Total.Fatal.Injuries  Total.Serious.Injuries  \\\n",
       "count        1532.000000           1420.000000             1431.000000   \n",
       "mean            1.127285              0.249296                0.248777   \n",
       "std             0.374026              3.048093                1.723437   \n",
       "min             0.000000              0.000000                0.000000   \n",
       "25%             1.000000              0.000000                0.000000   \n",
       "50%             1.000000              0.000000                0.000000   \n",
       "75%             1.000000              0.000000                0.000000   \n",
       "max             4.000000            112.000000               53.000000   \n",
       "\n",
       "       Total.Minor.Injuries  Total.Uninjured  \n",
       "count           1441.000000      1654.000000  \n",
       "mean               0.181818         8.514510  \n",
       "std                0.980492        35.073781  \n",
       "min                0.000000         0.000000  \n",
       "25%                0.000000         1.000000  \n",
       "50%                0.000000         1.000000  \n",
       "75%                0.000000         2.000000  \n",
       "max               27.000000       380.000000  "
      ]
     },
     "execution_count": 92,
     "metadata": {},
     "output_type": "execute_result"
    }
   ],
   "source": [
    "multi_incident_df.describe()"
   ]
  },
  {
   "cell_type": "code",
   "execution_count": null,
   "metadata": {},
   "outputs": [],
   "source": []
  },
  {
   "cell_type": "code",
   "execution_count": null,
   "metadata": {},
   "outputs": [],
   "source": []
  },
  {
   "cell_type": "code",
   "execution_count": null,
   "metadata": {},
   "outputs": [],
   "source": []
  },
  {
   "cell_type": "code",
   "execution_count": null,
   "metadata": {},
   "outputs": [],
   "source": []
  },
  {
   "cell_type": "code",
   "execution_count": null,
   "metadata": {},
   "outputs": [],
   "source": []
  },
  {
   "cell_type": "code",
   "execution_count": null,
   "metadata": {},
   "outputs": [],
   "source": []
  },
  {
   "cell_type": "code",
   "execution_count": null,
   "metadata": {},
   "outputs": [],
   "source": []
  },
  {
   "cell_type": "code",
   "execution_count": null,
   "metadata": {},
   "outputs": [],
   "source": []
  },
  {
   "cell_type": "code",
   "execution_count": null,
   "metadata": {},
   "outputs": [],
   "source": []
  },
  {
   "cell_type": "code",
   "execution_count": null,
   "metadata": {},
   "outputs": [],
   "source": []
  },
  {
   "cell_type": "code",
   "execution_count": null,
   "metadata": {},
   "outputs": [],
   "source": []
  },
  {
   "cell_type": "markdown",
   "metadata": {},
   "source": [
    "### Concluding EDA\n",
    "After going through some initial exploration and cleaning of the data, we are down to 24417 entires. These reflect a population of incidents which are more useful for understanding safely operating a commercial aviation enterprise."
   ]
  },
  {
   "cell_type": "markdown",
   "metadata": {},
   "source": [
    "## Initial Thoughts\n",
    "From looking at the columns, there are a lot of columns with relatively high null values.  For example, Air.carrier\n",
    "\n",
    "Which aircraft saw the biggest drops in fatalities over the years? <br>\n",
    "Did any aircraft see an increase in fatalities over the years? <br>\n",
    "\n",
    "### Visualizations:\n",
    "Total crashes over time <br>\n",
    "Geographic plot of crashes\n",
    "\n"
   ]
  },
  {
   "cell_type": "markdown",
   "metadata": {},
   "source": [
    "### High-Level Summary Statistics"
   ]
  },
  {
   "cell_type": "code",
   "execution_count": null,
   "metadata": {},
   "outputs": [],
   "source": []
  },
  {
   "cell_type": "code",
   "execution_count": 42,
   "metadata": {},
   "outputs": [
    {
     "data": {
      "text/plain": [
       "Int64Index([1979, 1982, 1982, 1982, 1982, 1982, 1982, 1982, 1982, 1982,\n",
       "            ...\n",
       "            2022, 2022, 2022, 2022, 2022, 2022, 2022, 2022, 2022, 2022],\n",
       "           dtype='int64', length=7380)"
      ]
     },
     "execution_count": 42,
     "metadata": {},
     "output_type": "execute_result"
    }
   ],
   "source": [
    "df['Event.Date'].value_counts().sort_index(ascending=True).index.year"
   ]
  },
  {
   "cell_type": "code",
   "execution_count": 31,
   "metadata": {},
   "outputs": [
    {
     "data": {
      "image/png": "[encoded data removed]",
      "text/plain": [
       "<Figure size 864x576 with 1 Axes>"
      ]
     },
     "metadata": {
      "needs_background": "light"
     },
     "output_type": "display_data"
    }
   ],
   "source": [
    "# Total Incidents Per Year\n",
    "dates = df['Event.Date'].value_counts().sort_index(ascending=True)\n",
    "\n",
    "# Dropping some index values for years with very low counts to make the plot more legible\n",
    "#dates_to_drop = pd.to_datetime(['1948-10-24', '1962-07-19','1974-08-30', '1977-06-19', '1979-08-02', '1979-09-17','1981-08-01',])\n",
    "#dates.drop(index=dates_to_drop,inplace=True)\n",
    "\n",
    "import seaborn as sns\n",
    "\n",
    "fig,ax=plt.subplots(figsize=(12,8))\n",
    "\n",
    "counts = dates.groupby(dates.index.year).sum()\n",
    "years = counts.index\n",
    "\n",
    "sns.set_style('darkgrid')\n",
    "\n",
    "ax.plot(years,counts)\n",
    "ax.set_title('Total Aviation Incidents Per Year (1982-2022)', fontsize=14)\n",
    "ax.set_ylabel('Number of Incidents', fontsize=14)\n",
    "ax.set_xlabel('Year', fontsize=14)\n",
    "plt.show()"
   ]
  },
  {
   "cell_type": "code",
   "execution_count": null,
   "metadata": {},
   "outputs": [],
   "source": []
  }
 ],
 "metadata": {
  "kernelspec": {
   "display_name": "learn-env",
   "language": "python",
   "name": "learn-env"
  },
  "language_info": {
   "codemirror_mode": {
    "name": "ipython",
    "version": 3
   },
   "file_extension": ".py",
   "mimetype": "text/x-python",
   "name": "python",
   "nbconvert_exporter": "python",
   "pygments_lexer": "ipython3",
   "version": "3.8.5"
  }
 },
 "nbformat": 4,
 "nbformat_minor": 4
}
